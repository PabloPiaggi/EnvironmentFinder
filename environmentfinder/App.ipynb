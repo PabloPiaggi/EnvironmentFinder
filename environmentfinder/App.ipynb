{
 "cells": [
  {
   "cell_type": "markdown",
   "metadata": {},
   "source": [
    "<img style=\"float: right;\" src=\"logo.png\" width=\"125\">\n",
    "\n",
    "# Environment Finder\n",
    "A tool for finding and analyzing atomic environments in crystal structures"
   ]
  },
  {
   "cell_type": "code",
   "execution_count": 1,
   "metadata": {},
   "outputs": [],
   "source": [
    "import numpy as np\n",
    "from ipywidgets import interactive, widgets, HTML\n",
    "import warnings\n",
    "import os\n",
    "import markdown\n",
    "\n",
    "warnings.simplefilter('ignore')"
   ]
  },
  {
   "cell_type": "code",
   "execution_count": 2,
   "metadata": {},
   "outputs": [
    {
     "data": {
      "application/vnd.jupyter.widget-view+json": {
       "model_id": "c328bf3b301f40b6b95b1349b71a3d87",
       "version_major": 2,
       "version_minor": 0
      },
      "text/plain": [
       "Accordion(children=(HTML(value='<p>The purpose of this tool is to find atomic environments in crystal structur…"
      ]
     },
     "metadata": {},
     "output_type": "display_data"
    }
   ],
   "source": [
    "html_description = markdown.markdown(\"\"\"\n",
    "The purpose of this tool is to find atomic environments in crystal structures. These environments can then be used to define measures of similarity and collective variables for enhanced sampling simulations. The output from this tool can be used directly to create reference environments for the [EnvironmentSimilarity](https://www.plumed.org/doc-master/user-doc/html/_e_n_v_i_r_o_n_m_e_n_t_s_i_m_i_l_a_r_i_t_y.html) collective variable in [PLUMED](https://www.plumed.org/doc-master/user-doc/html/index.html). The tool can also be used to visualize chemical environments around an atom for general purposes.\n",
    "\"\"\")\n",
    "description=HTML(html_description)\n",
    "\n",
    "pre_accordion = widgets.Accordion()\n",
    "pre_accordion.children = [description]\n",
    "pre_accordion.set_title(0, 'Description')\n",
    "pre_accordion.selected_index = None\n",
    "pre_accordion"
   ]
  },
  {
   "cell_type": "markdown",
   "metadata": {},
   "source": [
    "Proceed through the four tabs sequentially."
   ]
  },
  {
   "cell_type": "code",
   "execution_count": 3,
   "metadata": {},
   "outputs": [
    {
     "data": {
      "application/vnd.jupyter.widget-view+json": {
       "model_id": "8e4a41d60b8b4350a0ec467ac5e3403d",
       "version_major": 2,
       "version_minor": 0
      },
      "text/plain": [
       "_ColormakerRegistry()"
      ]
     },
     "metadata": {},
     "output_type": "display_data"
    }
   ],
   "source": [
    "from environmentfinder import EnvironmentFinder\n",
    "# Define instance of class EnvironmentFinder\n",
    "MyEnvironmentFinder = EnvironmentFinder()"
   ]
  },
  {
   "cell_type": "code",
   "execution_count": 4,
   "metadata": {},
   "outputs": [],
   "source": [
    "#############################\n",
    "# WIDGET 1: Choose and upload\n",
    "#############################\n",
    "\n",
    "# Define upload widget\n",
    "Widget1UploadConfiguration = widgets.FileUpload(\n",
    " accept='',  # Accepted file extension e.g. '.txt', '.pdf', 'image/*', 'image/*,.pdf'\n",
    " multiple=False,  # True to accept multiple files upload else False\n",
    " wait=True\n",
    ")\n",
    "\n",
    "examples = ('Ice Ih', 'examples/IceIh.pdb'),('Urea', 'examples/urea2.pdb'), ('Ga II', 'examples/Ga_II.vasp')\n",
    "widget_choose_filename = widgets.Dropdown(options=examples,description='Structure:')\n",
    "\n",
    "Widget1Out = widgets.Output()\n",
    "def chooseAndPlotConfigurationAltOutput(filename):\n",
    "    Widget1Out.clear_output()\n",
    "    with Widget1Out:\n",
    "        MyEnvironmentFinder.chooseAndPlotConfiguration(filename)\n",
    "        \n",
    "Widget1ExampleConfiguration = interactive(chooseAndPlotConfigurationAltOutput, filename=widget_choose_filename)\n",
    "\n",
    "# This function updates the dropdown list when a new file is uploaded\n",
    "def updateWidget1ExampleConfiguration(*args):\n",
    "    uploaded_filename = next(iter(Widget1UploadConfiguration.value))\n",
    "    content = Widget1UploadConfiguration.value[uploaded_filename]['content']\n",
    "    with open(\"Uploaded/\" + uploaded_filename, 'wb') as f: f.write(content)\n",
    "    mypath=\"Uploaded/\"\n",
    "    found_files=[]\n",
    "    for f in os.listdir(mypath):\n",
    "        if (f!=\"README.md\"):\n",
    "            found_files += [(f , mypath + f)]\n",
    "    found_files = tuple(found_files)\n",
    "    #found_files = tuple([(f , mypath + f) for f in os.listdir(mypath)])\n",
    "    examples = ('Ice Ih', 'examples/IceIh.pdb'),('Urea', 'examples/urea2.pdb'), ('Ga II', 'examples/Ga_II.vasp')\n",
    "    all_files = found_files+examples\n",
    "    widget_choose_filename.options = all_files\n",
    "    \n",
    "Widget1UploadConfiguration.observe(updateWidget1ExampleConfiguration,names='value')\n",
    "\n",
    "Widget1ExamplesAndUpload = widgets.HBox([Widget1ExampleConfiguration,Widget1UploadConfiguration])\n",
    "Widget1Text = HTML(markdown.markdown(\"\"\"\n",
    "Choose a structure from the examples or upload your own in xyz, pdb, vasp, lammps-data, or [other formats](https://wiki.fysik.dtu.dk/ase/ase/io/io.html).\n",
    "\"\"\"))\n",
    "Widget1 = widgets.VBox([Widget1Text,Widget1ExamplesAndUpload,Widget1Out])"
   ]
  },
  {
   "cell_type": "code",
   "execution_count": 5,
   "metadata": {},
   "outputs": [
    {
     "name": "stderr",
     "output_type": "stream",
     "text": [
      "/home/local/PRINCETON/ppiaggi/miniconda3/lib/python3.8/site-packages/traitlets/traitlets.py:714: FutureWarning: elementwise comparison failed; returning scalar instead, but in the future will perform elementwise comparison\n",
      "  silent = bool(old_value == new_value)\n"
     ]
    }
   ],
   "source": [
    "#############################\n",
    "# WIDGET 2: Define\n",
    "#############################\n",
    "\n",
    "MyEnvironmentFinder.chooseConfiguration('examples/IceIh.pdb') # Have to load the first example\n",
    "widget_atom_type_1 = widgets.Dropdown(options=MyEnvironmentFinder.atom_types, value=MyEnvironmentFinder.atom_types[1], description='Central atoms type:', style = {'description_width': 'initial'})\n",
    "widget_atom_type_2 = widgets.Dropdown(options=MyEnvironmentFinder.atom_types, value=MyEnvironmentFinder.atom_types[0], description='Neighbor atoms type:', style = {'description_width': 'initial'})\n",
    "\n",
    "def update_atom_types(*args):\n",
    "    widget_atom_type_1.options = MyEnvironmentFinder.atom_types\n",
    "    widget_atom_type_1.value = MyEnvironmentFinder.atom_types[0]\n",
    "    widget_atom_type_2.options = MyEnvironmentFinder.atom_types\n",
    "    widget_atom_type_2.value = MyEnvironmentFinder.atom_types[0]\n",
    "\n",
    "widget_choose_filename.observe(update_atom_types, names='value')\n",
    "\n",
    "#def toggleTypeAndIndex(value, fast):\n",
    "def toggleTypeAndIndex(value):\n",
    "    MyEnvironmentFinder.fastFlag=False\n",
    "    if (value=='Type'):\n",
    "        # Call function with widgets\n",
    "        widget_define_type_pre = interactive(MyEnvironmentFinder.calculateEnvironmentsType, \n",
    "            atom_type_1 = widget_atom_type_1,\n",
    "            atom_type_2 = widget_atom_type_2,\n",
    "            cutoff =  widgets.FloatText(value=2,description='Cutoff (Å):',disabled=False),\n",
    "            tolerance = widgets.FloatText(value=0.02,description='Tolerance (Å):',disabled=False, style = {'description_width': 'initial'}) \n",
    "        )\n",
    "        widget_define_type_text = widgets.Label(value=\"Choose the atom type of the central and neighbor atoms, the cutoff, and the similarity tolerance.\")\n",
    "        widget_define_type = widgets.VBox([widget_define_type_text,widget_define_type_pre]) \n",
    "        display(widget_define_type)\n",
    "    elif (value=='String'):\n",
    "        # Call function with widgets\n",
    "        widget_define_string_pre = interactive(MyEnvironmentFinder.calculateEnvironmentsString, \n",
    "                   listastring = widgets.Text(value=\"1,2,3\", description='List central atoms:',placeholder='Type something',disabled=False, style = {'description_width': 'initial'}),\n",
    "                   listbstring = widgets.Text(value=\"1,2\", description='List neighbor atoms:',placeholder='Type something',disabled=False, style = {'description_width': 'initial'}),\n",
    "                   cutoff =  widgets.FloatText(value=2,description='Cutoff (Å):',disabled=False, style = {'description_width': 'initial'}),\n",
    "                   tolerance = widgets.FloatText(value=0.02,description='Tolerance (Å):',disabled=False, style = {'description_width': 'initial'}) \n",
    "        )\n",
    "        widget_define_string_text = widgets.Label(value=\"Choose central and neighbor atoms using lists, then choose the cutoff and the similarity tolerance.\")\n",
    "        widget_define_string = widgets.VBox([widget_define_string_text,widget_define_string_pre])\n",
    "        display(widget_define_string)\n",
    "    elif (value=='Step'):\n",
    "        # Call function with widgets\n",
    "        widget_define_step_pre = interactive(MyEnvironmentFinder.calculateEnvironmentsMinMaxStride,\n",
    "                   mina = widgets.Text(value=\"1\", description='Central atoms min:',placeholder='Type something',disabled=False, style = {'description_width': 'initial'}),\n",
    "                   maxa = widgets.Text(value=\"2\", description='Central atoms max:',placeholder='Type something',disabled=False, style = {'description_width': 'initial'}),\n",
    "                   stridea = widgets.Text(value=\"1\", description='Central atoms step:',placeholder='Type something',disabled=False, style = {'description_width': 'initial'}),\n",
    "                   minb = widgets.Text(value=\"1\", description='Neighbor atoms min:',placeholder='Type something',disabled=False, style = {'description_width': 'initial'}),\n",
    "                   maxb = widgets.Text(value=\"2\", description='Neighbor atoms max:',placeholder='Type something',disabled=False, style = {'description_width': 'initial'}),\n",
    "                   strideb = widgets.Text(value=\"1\", description='Neighbor atoms step:',placeholder='Type something',disabled=False, style = {'description_width': 'initial'}),\n",
    "                   cutoff =  widgets.FloatText(value=2,description='Cutoff (Å):',disabled=False, style = {'description_width': 'initial'}),\n",
    "                   tolerance = widgets.FloatText(value=0.02,description='Tolerance (Å):',disabled=False, style = {'description_width': 'initial'}) \n",
    "        )\n",
    "        widget_define_step_text = widgets.Label(value=\"Choose central and neighbor atoms using minimum and maximum indeces and a step. Then choose the cutoff and the similarity tolerance.\")\n",
    "        widget_define_step = widgets.VBox([widget_define_step_text,widget_define_step_pre])\n",
    "        display(widget_define_step)\n",
    "    else:\n",
    "        print(\"Error\")\n",
    "\n",
    "Widget2Pre = interactive(toggleTypeAndIndex, value=widgets.ToggleButtons(options=['Type','String','Step'], description='Choose based on:', style = {'description_width': 'initial'}, disabled=False))\n",
    "\n",
    "#                                       fast=widgets.Checkbox(value=False, description=\"Fast algorithm\", disabled=False, style = {'description_width': 'initial'}))\n",
    "\n",
    "Widget2Text = widgets.Label(value=\"Define the environments. The tool will then find the unique environments in the configuration using your definition.\")\n",
    "Widget2 = widgets.VBox([Widget2Text,Widget2Pre])"
   ]
  },
  {
   "cell_type": "code",
   "execution_count": null,
   "metadata": {},
   "outputs": [],
   "source": [
    "#############################\n",
    "# WIDGET 3: Analyze\n",
    "#############################\n",
    "\n",
    "Widget3Out = widgets.Output()\n",
    "\n",
    "def update3(*args):\n",
    "    toggleAllVsUnique('Unique')\n",
    "        \n",
    "def toggleAllVsUnique(value):\n",
    "    Widget3Out.clear_output()\n",
    "    if (value=='Unique' and MyEnvironmentFinder.uniqueEnvs.shape[0]>0  and MyEnvironmentFinder.uniqueFlag):\n",
    "        plotMyEnv = interactive(MyEnvironmentFinder.chooseEnvPlotUnique, number=widgets.IntSlider(description='Environment:',min=1,max=MyEnvironmentFinder.uniqueEnvs.shape[0],step=1,value=0)) #, anglex=widgets.IntSlider(description='Angle x:',min=-90,max=90,step=5,value=0), angley=widgets.IntSlider(description='Angle y:',min=-90,max=90,step=5,value=0), anglez=widgets.IntSlider(description='Angle z:',min=-90,max=90,step=5,value=0))\n",
    "        with Widget3Out:\n",
    "            display(plotMyEnv)\n",
    "    elif (value=='All' and MyEnvironmentFinder.allEnvs.shape[0]>0):\n",
    "        plotMyEnv = interactive(MyEnvironmentFinder.chooseEnvPlotAll, number=widgets.IntSlider(description='Environment:',min=1,max=MyEnvironmentFinder.allEnvs.shape[0],step=1,value=0, style = {'description_width': 'initial'})) #, anglex=widgets.IntSlider(description='Angle x:',min=-90,max=90,step=5,value=0), angley=widgets.IntSlider(description='Angle y:',min=-90,max=90,step=5,value=0), anglez=widgets.IntSlider(description='Angle z:',min=-90,max=90,step=5,value=0))\n",
    "        with Widget3Out:\n",
    "            display(plotMyEnv)\n",
    "    elif (value!='All' and value!='Unique'):\n",
    "        with Widget3Out:\n",
    "            print(\"Error: keyword \" + str(value) + \" not recognized!\")\n",
    "    elif (not(MyEnvironmentFinder.uniqueFlag)):\n",
    "        with Widget3Out:\n",
    "            print(\"Error: unique environments not requested!\")\n",
    "    elif (MyEnvironmentFinder.allEnvs.shape[0]==0 or MyEnvironmentFinder.uniqueEnvs.shape[0]==0):\n",
    "        with Widget3Out:\n",
    "            print(\"Error: empty environments!\")\n",
    "    else:\n",
    "        with Widget3Out:\n",
    "            print(\"Error\")\n",
    "        \n",
    "Widget3AnalyzeEnvironmentsToggle = interactive(toggleAllVsUnique, value=widgets.ToggleButtons(options=['Unique','All'], description='Choose:', disabled=False))\n",
    "\n",
    "Widget3Text = widgets.Label(value='Visualize the calculated environments. Toggle between the unique environments or all, and slide to choose environment.')\n",
    "\n",
    "Widget3AnalyzeEnvironments = widgets.VBox([Widget3Text,Widget3AnalyzeEnvironmentsToggle,Widget3Out])"
   ]
  },
  {
   "cell_type": "code",
   "execution_count": null,
   "metadata": {},
   "outputs": [],
   "source": [
    "#############################\n",
    "# WIDGET 4: Output\n",
    "#############################\n",
    "\n",
    "Widget4Out = widgets.Output()\n",
    "\n",
    "def update4(*args):\n",
    "    toggleAllVsUniqueForOutput('Unique')\n",
    "        \n",
    "def toggleAllVsUniqueForOutput(value):\n",
    "    Widget4Out.clear_output()\n",
    "    if (value=='Unique' and MyEnvironmentFinder.uniqueEnvs.shape[0]>0 and MyEnvironmentFinder.uniqueFlag):\n",
    "        with Widget4Out:\n",
    "            MyEnvironmentFinder.printEnvironments(MyEnvironmentFinder.uniqueEnvs)\n",
    "            MyEnvironmentFinder.printEnvironmentsToZipFile(MyEnvironmentFinder.uniqueEnvs)\n",
    "    elif (value=='All' and MyEnvironmentFinder.allEnvs.shape[0]>0):\n",
    "        with Widget4Out:\n",
    "            MyEnvironmentFinder.printEnvironments(MyEnvironmentFinder.allEnvs)\n",
    "            MyEnvironmentFinder.printEnvironmentsToZipFile(MyEnvironmentFinder.allEnvs)\n",
    "    elif (value!='All' and value!='Unique'):\n",
    "        with Widget4Out:\n",
    "            print(\"Error: keyword \" + str(value) + \" not recognized!\")\n",
    "    elif (not(MyEnvironmentFinder.uniqueFlag)):\n",
    "        with Widget4Out:\n",
    "            print(\"Error: unique environments not requested!\")\n",
    "    elif (MyEnvironmentFinder.allEnvs.shape[0]==0 or MyEnvironmentFinder.uniqueEnvs.shape[0]==0):\n",
    "        with Widget4Out:\n",
    "            print(\"Error: empty environments!\")\n",
    "    else:\n",
    "        with Widget4Out:\n",
    "            print(\"Error\")\n",
    "        \n",
    "Widget4OutputEnvironmentsToggle = interactive(toggleAllVsUniqueForOutput, value=widgets.ToggleButtons(options=['Unique','All'], description='Choose:', disabled=False))\n",
    "\n",
    "Widget4Text = widgets.Label(value='Print the environments in Protein Data Bank (PDB) format. Toggle between the unique environments or all.')\n",
    "\n",
    "Widget4TextPost = HTML(markdown.markdown(\"\"\"\n",
    "These environments can be used in an enhanced sampling simulation using the [EnvironmentSimilarity](https://www.plumed.org/doc-master/user-doc/html/_e_n_v_i_r_o_n_m_e_n_t_s_i_m_i_l_a_r_i_t_y.html) collective variable in [PLUMED](https://www.plumed.org/doc-master/user-doc/html/index.html).\n",
    "\"\"\"))\n",
    "\n",
    "#Widget4Button = widgets.Button(\n",
    "#    description='Download',\n",
    "#    disabled=False,\n",
    "#    button_style='', # 'success', 'info', 'warning', 'danger' or ''\n",
    "#    tooltip='Download',\n",
    "#    icon='download' # (FontAwesome names without the `fa-` prefix)\n",
    "#)\n",
    "#\n",
    "#def zip_and_download(dummy):\n",
    "#    MyEnvironmentFinder.printEnvironmentsToFile(MyEnvironmentFinder.uniqueEnvs)\n",
    "#\n",
    "#Widget4Button.on_click(zip_and_download)\n",
    "\n",
    "Widget4OutputEnvironments = widgets.VBox([Widget4Text,Widget4OutputEnvironmentsToggle,Widget4Out,Widget4TextPost])"
   ]
  },
  {
   "cell_type": "code",
   "execution_count": null,
   "metadata": {},
   "outputs": [],
   "source": [
    "#############################\n",
    "# Combine widgets into tabs\n",
    "#############################\n",
    "\n",
    "children = [Widget1,Widget2,Widget3AnalyzeEnvironments,Widget4OutputEnvironments]\n",
    "tab = widgets.Tab() #layout=widgets.Layout(width='800px', height='800px'))\n",
    "tab.children = children\n",
    "tab.set_title(0, 'Choose configuration')\n",
    "tab.set_title(1, 'Define environments')\n",
    "tab.set_title(2, 'Analyze environments')\n",
    "tab.set_title(3, 'Output environments')\n",
    "\n",
    "\n",
    "tab.observe(update3, names='selected_index')\n",
    "tab.observe(update4, names='selected_index')"
   ]
  },
  {
   "cell_type": "code",
   "execution_count": null,
   "metadata": {},
   "outputs": [],
   "source": [
    "display(tab)"
   ]
  },
  {
   "cell_type": "code",
   "execution_count": null,
   "metadata": {},
   "outputs": [],
   "source": [
    "html_acknowledgments = markdown.markdown(\"\"\"\n",
    "* The app uses several python libraries, for instance [ASE](https://wiki.fysik.dtu.dk/ase/), [NGLVIEW](https://github.com/arose/nglview), and [ipywidgets](https://ipywidgets.readthedocs.io/en/latest/index.html).\n",
    "* I am grateful to Giovanni Pizzi and Dou Du for suggesting to deploy the tool using [Binder](https://mybinder.org/)+[appmode](https://github.com/oschuett/appmode).\n",
    "* This tool was mainly developed with support of the Swiss National Science Foundation (SNSF) through an Early Postdoc.Mobility fellowship.\n",
    "* I also acknowledge funding from the NCCR MARVEL funded by the SNSF and from the CSI Computational Science Center funded by the Department of Energy of the USA.\n",
    "\"\"\")\n",
    "acknowledgments=widgets.VBox([\n",
    "    HTML(html_acknowledgments)\n",
    "])\n",
    "\n",
    "html_howtocite = markdown.markdown(\"\"\"\n",
    "If you are using this tool to find environments for enhanced sampling simulations please read and cite:\n",
    "\n",
    "* [Pablo Piaggi and Michele Parrinello, *Calculation of phase diagrams in the multithermal-multibaric ensemble*, J. Chem. Phys. 150, 244119 (2019)](https://aip.scitation.org/doi/full/10.1063/1.5102104)\n",
    "\"\"\")\n",
    "howtocite=widgets.VBox([\n",
    "    HTML(html_howtocite)\n",
    "])\n",
    "\n",
    "post_children=[acknowledgments,howtocite]\n",
    "post_accordion = widgets.Accordion(layout=widgets.Layout())\n",
    "#print(post_accordion.layout.keys)\n",
    "post_accordion.children = post_children\n",
    "post_accordion.set_title(0, 'Acknowledgments')\n",
    "post_accordion.set_title(1, 'How to cite')\n",
    "post_accordion.selected_index = None\n",
    "post_accordion"
   ]
  },
  {
   "cell_type": "markdown",
   "metadata": {},
   "source": [
    "See the project on [GitHub](https://github.com/PabloPiaggi/EnvironmentFinder)"
   ]
  },
  {
   "cell_type": "markdown",
   "metadata": {},
   "source": [
    "Environment Finder, Copyright © 2020, Pablo Piaggi"
   ]
  },
  {
   "cell_type": "code",
   "execution_count": null,
   "metadata": {},
   "outputs": [],
   "source": []
  }
 ],
 "metadata": {
  "kernelspec": {
   "display_name": "Python 3",
   "language": "python",
   "name": "python3"
  },
  "language_info": {
   "codemirror_mode": {
    "name": "ipython",
    "version": 3
   },
   "file_extension": ".py",
   "mimetype": "text/x-python",
   "name": "python",
   "nbconvert_exporter": "python",
   "pygments_lexer": "ipython3",
   "version": "3.8.13"
  }
 },
 "nbformat": 4,
 "nbformat_minor": 2
}
