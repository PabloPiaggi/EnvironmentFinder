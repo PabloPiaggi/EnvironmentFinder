{
 "cells": [
  {
   "cell_type": "markdown",
   "metadata": {},
   "source": [
    "# Environment finder"
   ]
  },
  {
   "cell_type": "code",
   "execution_count": 1,
   "metadata": {},
   "outputs": [],
   "source": [
    "import numpy as np\n",
    "from ipywidgets import interactive, widgets\n",
    "import warnings\n",
    "import os\n",
    "\n",
    "warnings.simplefilter('ignore')"
   ]
  },
  {
   "cell_type": "code",
   "execution_count": 2,
   "metadata": {},
   "outputs": [
    {
     "data": {
      "application/vnd.jupyter.widget-view+json": {
       "model_id": "4d479befa0fc4e48929ba654c9465fa0",
       "version_major": 2,
       "version_minor": 0
      },
      "text/plain": [
       "_ColormakerRegistry()"
      ]
     },
     "metadata": {},
     "output_type": "display_data"
    }
   ],
   "source": [
    "from environmentfinder import *\n",
    "# Define instance of class EnvironmentFinder\n",
    "MyEnvironmentFinder = EnvironmentFinder()"
   ]
  },
  {
   "cell_type": "code",
   "execution_count": 3,
   "metadata": {},
   "outputs": [],
   "source": [
    "#############################\n",
    "# WIDGET 1: Choose and upload\n",
    "#############################\n",
    "\n",
    "def toggleChooseAndUpload(value):\n",
    "    # Define upload widget\n",
    "    Widget1UploadConfiguration = widgets.FileUpload(\n",
    "     accept='',  # Accepted file extension e.g. '.txt', '.pdf', 'image/*', 'image/*,.pdf'\n",
    "     multiple=False,  # True to accept multiple files upload else False\n",
    "     wait=True\n",
    "    )\n",
    "    # Select choose or upload\n",
    "    if (value=='Choose'):\n",
    "        # Check of file has been uploaded\n",
    "        if (Widget1UploadConfiguration.value!={}):\n",
    "            uploaded_filename = next(iter(Widget1UploadConfiguration.value))\n",
    "            content = Widget1UploadConfiguration.value[uploaded_filename]['content']\n",
    "            with open(\"Uploaded/\" + uploaded_filename, 'wb') as f: f.write(content)\n",
    "        mypath=\"Uploaded/\"\n",
    "        found_files=[]\n",
    "        for f in os.listdir(mypath):\n",
    "            if (f!=\"README.md\"):\n",
    "                found_files += [(f , mypath + f)]\n",
    "        found_files = tuple(found_files)\n",
    "        #found_files = tuple([(f , mypath + f) for f in os.listdir(mypath)])\n",
    "        examples = ('Ice Ih', 'Examples/IceIh.pdb'),('Urea', 'Examples/urea2.pdb'), ('Ga II', 'Examples/Ga_II.vasp')\n",
    "        all_files = found_files+examples\n",
    "        Widget1ExampleConfiguration = interactive(MyEnvironmentFinder.chooseAndPlotConfiguration, Configuration=\n",
    "                         widgets.Dropdown(\n",
    "                         options=all_files,\n",
    "                         description='')\n",
    "                        )\n",
    "        display(Widget1ExampleConfiguration)\n",
    "    elif (value=='Upload'): \n",
    "        display(Widget1UploadConfiguration)\n",
    "        #chooseAndPlotConfiguration(uploaded_filename)\n",
    "    elif (value!='Choose' and value!='Upload'):\n",
    "        print(\"Error: keyword \" + str(value) + \" not recognized!\")\n",
    "    else:\n",
    "        print(\"Error\")\n",
    "        \n",
    "Widget1ExamplesAndUploadToggle = interactive(toggleChooseAndUpload, value=widgets.ToggleButtons(options=['Choose','Upload'], description=' ', disabled=False))"
   ]
  },
  {
   "cell_type": "code",
   "execution_count": 4,
   "metadata": {},
   "outputs": [],
   "source": [
    "#############################\n",
    "# WIDGET 2: Define\n",
    "#############################\n",
    "\n",
    "def toggleTypeAndIndex(value, unique, fast):\n",
    "    MyEnvironmentFinder.uniqueFlag=unique\n",
    "    MyEnvironmentFinder.fastFlag=fast\n",
    "    if (value=='Type'):\n",
    "        # Call function with widgets\n",
    "        wvec = interactive(MyEnvironmentFinder.calculateEnvironmentsType, \n",
    "            atom_type_1 = widgets.Dropdown(options=MyEnvironmentFinder.atom_types, value=MyEnvironmentFinder.atom_types[0], description='Atom type 1:'),\n",
    "            atom_type_2 = widgets.Dropdown(options=MyEnvironmentFinder.atom_types, value=MyEnvironmentFinder.atom_types[0], description='Atom type 2:'),\n",
    "            cutoff =  widgets.FloatText(value=1,description='Cutoff:',disabled=False),\n",
    "            tolerance = widgets.FloatText(value=0.02,description='Tolerance:',disabled=False) \n",
    "        )\n",
    "        display(wvec)\n",
    "    elif (value=='String'):\n",
    "        # Call function with widgets\n",
    "        wvec = interactive(MyEnvironmentFinder.calculateEnvironmentsString, \n",
    "                   listastring = widgets.Text(value=\"1,2,3\", description='List A:',placeholder='Type something',disabled=False),\n",
    "                   listbstring = widgets.Text(value=\"1,2\", description='List B:',placeholder='Type something',disabled=False),\n",
    "                   cutoff =  widgets.FloatText(value=2,description='Cutoff:',disabled=False),\n",
    "                   tolerance = widgets.FloatText(value=0.02,description='Tolerance:',disabled=False) \n",
    "        )\n",
    "        display(wvec)\n",
    "    elif (value=='Step'):\n",
    "        # Call function with widgets\n",
    "        wvec = interactive(MyEnvironmentFinder.calculateEnvironmentsMinMaxStride,\n",
    "                   mina = widgets.Text(value=\"1\", description='Min A:',placeholder='Type something',disabled=False),\n",
    "                   maxa = widgets.Text(value=\"2\", description='Max A:',placeholder='Type something',disabled=False),\n",
    "                   stridea = widgets.Text(value=\"1\", description='Stride A:',placeholder='Type something',disabled=False),\n",
    "                   minb = widgets.Text(value=\"1\", description='Min B:',placeholder='Type something',disabled=False),\n",
    "                   maxb = widgets.Text(value=\"2\", description='Max B:',placeholder='Type something',disabled=False),\n",
    "                   strideb = widgets.Text(value=\"1\", description='Stride B:',placeholder='Type something',disabled=False),\n",
    "                   cutoff =  widgets.FloatText(value=2,description='Cutoff:',disabled=False),\n",
    "                   tolerance = widgets.FloatText(value=0.02,description='Tolerance:',disabled=False) \n",
    "        )\n",
    "        display(wvec)\n",
    "    else:\n",
    "        print(\"Error\")\n",
    "         \n",
    "Widget2DefineEnvironment = interactive(toggleTypeAndIndex, value=widgets.ToggleButtons(options=['Type','String','Step'], description='Choose:', disabled=False), \n",
    "                                       unique=widgets.Checkbox(value=True, description=\"Find unique environments?\", disabled=False),\n",
    "                                       fast=widgets.Checkbox(value=True, description=\"Fast algorithm\", disabled=False) \n",
    "                                      )"
   ]
  },
  {
   "cell_type": "code",
   "execution_count": 5,
   "metadata": {},
   "outputs": [],
   "source": [
    "#############################\n",
    "# WIDGET 3: Analyze\n",
    "#############################\n",
    "\n",
    "def toggleAllVsUnique(value):\n",
    "    if (value=='Unique' and MyEnvironmentFinder.uniqueEnvs.shape[0]>0  and MyEnvironmentFinder.uniqueFlag):\n",
    "        plotMyEnv = interactive(MyEnvironmentFinder.chooseEnvPlotUnique, number=widgets.IntSlider(description='Environment:',min=1,max=MyEnvironmentFinder.uniqueEnvs.shape[0],step=1,value=0)) #, anglex=widgets.IntSlider(description='Angle x:',min=-90,max=90,step=5,value=0), angley=widgets.IntSlider(description='Angle y:',min=-90,max=90,step=5,value=0), anglez=widgets.IntSlider(description='Angle z:',min=-90,max=90,step=5,value=0))\n",
    "        display(plotMyEnv)\n",
    "    elif (value=='All' and MyEnvironmentFinder.allEnvs.shape[0]>0):\n",
    "        plotMyEnv = interactive(MyEnvironmentFinder.chooseEnvPlotAll, number=widgets.IntSlider(description='Environment:',min=1,max=MyEnvironmentFinder.allEnvs.shape[0],step=1,value=0)) #, anglex=widgets.IntSlider(description='Angle x:',min=-90,max=90,step=5,value=0), angley=widgets.IntSlider(description='Angle y:',min=-90,max=90,step=5,value=0), anglez=widgets.IntSlider(description='Angle z:',min=-90,max=90,step=5,value=0))\n",
    "        display(plotMyEnv)\n",
    "    elif (value!='All' and value!='Unique'):\n",
    "        print(\"Error: keyword \" + str(value) + \" not recognized!\")\n",
    "    elif (not(MyEnvironmentFinder.uniqueFlag)):\n",
    "        print(\"Error: unique environments not requested!\")\n",
    "    elif (MyEnvironmentFinder.allEnvs.shape[0]==0 or MyEnvironmentFinder.uniqueEnvs.shape[0]==0):\n",
    "        print(\"Error: empty environments!\")\n",
    "    else:\n",
    "        print(\"Error\")\n",
    "        \n",
    "Widget3AnalyzeEnvironmentsToggle = interactive(toggleAllVsUnique, value=widgets.ToggleButtons(options=['Unique','All'], description='Choose:', disabled=False))\n",
    "\n",
    "ToggleToRefreshMessage = widgets.Label(value='Toggle to refresh')\n",
    "\n",
    "Widget3AnalyzeEnvironments = widgets.VBox([ToggleToRefreshMessage,Widget3AnalyzeEnvironmentsToggle])"
   ]
  },
  {
   "cell_type": "code",
   "execution_count": 6,
   "metadata": {},
   "outputs": [],
   "source": [
    "#############################\n",
    "# WIDGET 4: Output\n",
    "#############################\n",
    "\n",
    "def toggleAllVsUniqueForOutput(value):\n",
    "    if (value=='Unique' and MyEnvironmentFinder.uniqueEnvs.shape[0]>0 and MyEnvironmentFinder.uniqueFlag):\n",
    "        MyEnvironmentFinder.printEnvironments(MyEnvironmentFinder.uniqueEnvs)\n",
    "    elif (value=='All' and MyEnvironmentFinder.allEnvs.shape[0]>0):\n",
    "        MyEnvironmentFinder.printEnvironments(MyEnvironmentFinder.allEnvs)\n",
    "    elif (value!='All' and value!='Unique'):\n",
    "        print(\"Error: keyword \" + str(value) + \" not recognized!\")\n",
    "    elif (not(MyEnvironmentFinder.uniqueFlag)):\n",
    "        print(\"Error: unique environments not requested!\")\n",
    "    elif (MyEnvironmentFinder.allEnvs.shape[0]==0 or MyEnvironmentFinder.uniqueEnvs.shape[0]==0):\n",
    "        print(\"Error: empty environments!\")\n",
    "    else:\n",
    "        print(\"Error\")\n",
    "        \n",
    "Widget4OutputEnvironmentsToggle = interactive(toggleAllVsUniqueForOutput, value=widgets.ToggleButtons(options=['Unique','All'], description='Choose:', disabled=False))\n",
    "\n",
    "ToggleToRefreshMessage = widgets.Label(value='Toggle to refresh')\n",
    "\n",
    "Widget4OutputEnvironments = widgets.VBox([ToggleToRefreshMessage,Widget4OutputEnvironmentsToggle])"
   ]
  },
  {
   "cell_type": "code",
   "execution_count": 7,
   "metadata": {},
   "outputs": [
    {
     "data": {
      "application/vnd.jupyter.widget-view+json": {
       "model_id": "13a0b44e322b47c0ad3059fc6155d9d2",
       "version_major": 2,
       "version_minor": 0
      },
      "text/plain": [
       "Tab(children=(interactive(children=(ToggleButtons(description=' ', options=('Choose', 'Upload'), value='Choose…"
      ]
     },
     "metadata": {},
     "output_type": "display_data"
    }
   ],
   "source": [
    "#############################\n",
    "# Combine widgets into tabs\n",
    "#############################\n",
    "\n",
    "children = [Widget1ExamplesAndUploadToggle,Widget2DefineEnvironment,Widget3AnalyzeEnvironments,Widget4OutputEnvironments]\n",
    "tab = widgets.Tab() #layout=widgets.Layout(width='800px', height='800px'))\n",
    "tab.children = children\n",
    "tab.set_title(0, 'Choose configuration')\n",
    "tab.set_title(1, 'Define environments')\n",
    "tab.set_title(2, 'Analyze environments')\n",
    "tab.set_title(3, 'Output environments')\n",
    "tab\n",
    "\n"
   ]
  },
  {
   "cell_type": "markdown",
   "metadata": {},
   "source": [
    "## Acknowledgments\n",
    "\n",
    "* The app uses several python libraries, for instance [ASE](https://wiki.fysik.dtu.dk/ase/) and [NGLVIEW](https://github.com/arose/nglview).\n",
    "* I am grateful to Giovanni Pizzi and Dou Du for suggesting to deploy the tool using [Binder](https://mybinder.org/)+[appmode](https://github.com/oschuett/appmode).\n",
    "* This tool was developed with support of the Swiss National Science Foundation (SNSF) through an Early Postdoc.Mobility fellowship.\n",
    "* I also acknowledge funding from the NCCR MARVEL funded by the SNSF and from the CSI Computational Science Center funded by the Department of Energy of the USA.\n",
    "\n",
    "## How to cite\n",
    "\n",
    "If you are using this tool to find environments for enhanced sampling simulations please read and cite:\n",
    "* [Pablo Piaggi and Michele Parrinello, *Calculation of phase diagrams in the multithermal-multibaric ensemble*, J. Chem. Phys. 150, 244119 (2019)](https://aip.scitation.org/doi/full/10.1063/1.5102104)\n"
   ]
  },
  {
   "cell_type": "code",
   "execution_count": null,
   "metadata": {},
   "outputs": [],
   "source": []
  }
 ],
 "metadata": {
  "kernelspec": {
   "display_name": "Python 3",
   "language": "python",
   "name": "python3"
  },
  "language_info": {
   "codemirror_mode": {
    "name": "ipython",
    "version": 3
   },
   "file_extension": ".py",
   "mimetype": "text/x-python",
   "name": "python",
   "nbconvert_exporter": "python",
   "pygments_lexer": "ipython3",
   "version": "3.6.9"
  }
 },
 "nbformat": 4,
 "nbformat_minor": 2
}
